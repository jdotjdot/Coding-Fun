{
 "metadata": {
  "name": ""
 },
 "nbformat": 3,
 "nbformat_minor": 0,
 "worksheets": [
  {
   "cells": [
    {
     "cell_type": "markdown",
     "metadata": {},
     "source": [
      "Write a naive fibinacci function recursively. It should look a lot like below, but you'll need to add some code: (Bonus for later: memoize this) Explain it to someone else."
     ]
    },
    {
     "cell_type": "code",
     "collapsed": false,
     "input": [
      "def fib(n):\n",
      "    if n<2:\n",
      "        return n\n",
      "    else:\n",
      "        return fib(n-2) + fib(n-1)"
     ],
     "language": "python",
     "metadata": {},
     "outputs": [],
     "prompt_number": 1
    },
    {
     "cell_type": "code",
     "collapsed": false,
     "input": [
      "[fib(x) for x in range(10)]"
     ],
     "language": "python",
     "metadata": {},
     "outputs": [
      {
       "metadata": {},
       "output_type": "pyout",
       "prompt_number": 2,
       "text": [
        "[0, 1, 1, 2, 3, 5, 8, 13, 21, 34]"
       ]
      }
     ],
     "prompt_number": 2
    },
    {
     "cell_type": "markdown",
     "metadata": {},
     "source": [
      "Warm up: using no loops (for, while, etc.), and no global variables, write a function that returns the sum of a list: Also, no cheating and calling methods that do significant work for you (i.e. sum(), reduce(), etc. are all off limits)."
     ]
    },
    {
     "cell_type": "code",
     "collapsed": false,
     "input": [
      "def sumlist(thelist, acc=0):\n",
      "\tif thelist == []:\n",
      "\t\treturn acc\n",
      "\telse:\n",
      "\t\treturn sumlist(thelist[1:], acc + thelist[0])"
     ],
     "language": "python",
     "metadata": {},
     "outputs": [],
     "prompt_number": 6
    },
    {
     "cell_type": "code",
     "collapsed": false,
     "input": [
      "sumlist([4,5,6,7])"
     ],
     "language": "python",
     "metadata": {},
     "outputs": [
      {
       "metadata": {},
       "output_type": "pyout",
       "prompt_number": 7,
       "text": [
        "22"
       ]
      }
     ],
     "prompt_number": 7
    },
    {
     "cell_type": "markdown",
     "metadata": {},
     "source": [
      "Again, using no loops, no global variables, no calling len() and no helper functions write a function that returns the last index of a given input in a list. Negative one gets returned if the element doesn't occur in the list.\n"
     ]
    },
    {
     "cell_type": "code",
     "collapsed": false,
     "input": [
      "def lastIndexOf(n, thelist, acc=-1, counter=0):\n",
      "    if thelist == []:\n",
      "        return acc\n",
      "    else:\n",
      "        return lastIndexOf(n, thelist[1:],\n",
      "                           acc=counter if thelist[0]==n else acc,\n",
      "                           counter=counter + 1)"
     ],
     "language": "python",
     "metadata": {},
     "outputs": [],
     "prompt_number": 8
    },
    {
     "cell_type": "code",
     "collapsed": false,
     "input": [
      "lastIndexOf(5, [1, 2, 4, 6, 5, 2, 5, 7])"
     ],
     "language": "python",
     "metadata": {},
     "outputs": [
      {
       "metadata": {},
       "output_type": "pyout",
       "prompt_number": 9,
       "text": [
        "6"
       ]
      }
     ],
     "prompt_number": 9
    },
    {
     "cell_type": "markdown",
     "metadata": {},
     "source": [
      "Try the same thing for a linked list:"
     ]
    },
    {
     "cell_type": "code",
     "collapsed": false,
     "input": [
      "def linkedLastIndexOf(n, thelist, acc=-1, counter=0):\n",
      "\tif not thelist:\n",
      "\t\treturn acc\n",
      "\telse:\n",
      "\t\treturn linkedLastIndexOf(n, thelist[1],\n",
      "\t\t\t\t\t counter if thelist[0]==n else acc,\n",
      "\t\t\t\t\t counter + 1)"
     ],
     "language": "python",
     "metadata": {},
     "outputs": [],
     "prompt_number": 10
    },
    {
     "cell_type": "code",
     "collapsed": false,
     "input": [
      "linkedLastIndexOf(5, [1,[2,[4,[6,[5,[2,[7,None]]]]]]])"
     ],
     "language": "python",
     "metadata": {},
     "outputs": [
      {
       "metadata": {},
       "output_type": "pyout",
       "prompt_number": 11,
       "text": [
        "4"
       ]
      }
     ],
     "prompt_number": 11
    },
    {
     "cell_type": "code",
     "collapsed": false,
     "input": [
      "lastIndexOf(5, [1, [2, [4, [6, [2, [7, None]]]]]])"
     ],
     "language": "python",
     "metadata": {},
     "outputs": [
      {
       "metadata": {},
       "output_type": "pyout",
       "prompt_number": 12,
       "text": [
        "-1"
       ]
      }
     ],
     "prompt_number": 12
    },
    {
     "cell_type": "markdown",
     "metadata": {},
     "source": [
      "Write a recursive function to compute the sum of a list of numbers."
     ]
    },
    {
     "cell_type": "code",
     "collapsed": false,
     "input": [
      "def recursive_sum(thelist, acc=0):\n",
      "\tif thelist == []:\n",
      "\t\treturn acc\n",
      "\telse:\n",
      "\t\treturn recursive_sum(thelist[1:], acc + thelist[0])"
     ],
     "language": "python",
     "metadata": {},
     "outputs": [],
     "prompt_number": 13
    },
    {
     "cell_type": "code",
     "collapsed": false,
     "input": [
      "recursive_sum([4,3,7,8,2])"
     ],
     "language": "python",
     "metadata": {},
     "outputs": [
      {
       "metadata": {},
       "output_type": "pyout",
       "prompt_number": 14,
       "text": [
        "24"
       ]
      }
     ],
     "prompt_number": 14
    },
    {
     "cell_type": "markdown",
     "metadata": {},
     "source": [
      "####Word problems\n",
      "No longer recursion only; now can use whatever tools we like."
     ]
    },
    {
     "cell_type": "markdown",
     "metadata": {},
     "source": [
      "Generate all the reorderings of a set of letters."
     ]
    },
    {
     "cell_type": "code",
     "collapsed": false,
     "input": [
      "def all_reorderings(letters):\n",
      "    import itertools\n",
      "    # Was this cheating?\n",
      "    if type(letters) is list:\n",
      "        letters = ''.join(letters)\n",
      "    return itertools.permutations(letters)"
     ],
     "language": "python",
     "metadata": {},
     "outputs": [],
     "prompt_number": 15
    },
    {
     "cell_type": "markdown",
     "metadata": {},
     "source": [
      "List all of the series' of letters (non-dictionary words, 'asd' and 'w' count) that can be formed with some scrabble tiles on a blank board. (In scrabble, you don't have to use all your tiles at once)"
     ]
    },
    {
     "cell_type": "code",
     "collapsed": false,
     "input": [
      "def all_reorderings(letters):\n",
      "    import itertools\n",
      "    # Cheating again\n",
      "    \n",
      "    if type(letters) is list:\n",
      "        letters = ''.join(letters)\n",
      "        \n",
      "    for r in range(1, len(letters) + 1):\n",
      "        for x in itertools.permutations(letters, r):\n",
      "            yield ''.join(x)"
     ],
     "language": "python",
     "metadata": {},
     "outputs": [],
     "prompt_number": 23
    },
    {
     "cell_type": "code",
     "collapsed": false,
     "input": [
      "g = all_reorderings(['a', 'b', 'c'])\n",
      "[g.next() for _ in range(15)]"
     ],
     "language": "python",
     "metadata": {},
     "outputs": [
      {
       "metadata": {},
       "output_type": "pyout",
       "prompt_number": 24,
       "text": [
        "['a',\n",
        " 'b',\n",
        " 'c',\n",
        " 'ab',\n",
        " 'ac',\n",
        " 'ba',\n",
        " 'bc',\n",
        " 'ca',\n",
        " 'cb',\n",
        " 'abc',\n",
        " 'acb',\n",
        " 'bac',\n",
        " 'bca',\n",
        " 'cab',\n",
        " 'cba']"
       ]
      }
     ],
     "prompt_number": 24
    },
    {
     "cell_type": "markdown",
     "metadata": {},
     "source": [
      "List all of the valid words (give some dictionary) that can be formed with some scrabble tiles on a blank board"
     ]
    },
    {
     "cell_type": "code",
     "collapsed": false,
     "input": [
      "def all_reorderings(letters, dictionary=[]):\n",
      "    import itertools, collections\n",
      "    # Cheating...again\n",
      "    if type(letters) is list:\n",
      "            letters = ''.join(letters)\n",
      "    \n",
      "    c = collections.Counter(letters)\n",
      "    \n",
      "    for word in dictionary:\n",
      "        dictword = collections.Counter(word)\n",
      "        if all(dictword[x] <= c[x] for x in dictword.keys()):\n",
      "            yield word"
     ],
     "language": "python",
     "metadata": {},
     "outputs": [],
     "prompt_number": 25
    },
    {
     "cell_type": "code",
     "collapsed": false,
     "input": [
      "[x for x in\n",
      " all_reorderings('abccccjfffjelfjawefhogellwaeo', dictionary=['chello', 'hello', 'joe', 'jonathan'])]"
     ],
     "language": "python",
     "metadata": {},
     "outputs": [
      {
       "metadata": {},
       "output_type": "pyout",
       "prompt_number": 28,
       "text": [
        "['chello', 'hello', 'joe']"
       ]
      }
     ],
     "prompt_number": 28
    },
    {
     "cell_type": "markdown",
     "metadata": {},
     "source": [
      "A child is running up a staircase with n steps, and can hop either 1 step, 2 steps, or 3 steps at a time. Write a function that, given the length of the staircase, tells you how many ways there are to go up the steps."
     ]
    },
    {
     "cell_type": "raw",
     "metadata": {},
     "source": [
      "let n := 11\n",
      "\n",
      "[  3  ] [  3  ] [  3  ] [ 2 ]\n",
      "[ 111 ] [ 111 ] [ 111 ] [ 11]\n",
      "[ 1 2 ] [ 1 2 ] [ 1 2 ] \n",
      "\n",
      "... not done"
     ]
    },
    {
     "cell_type": "markdown",
     "metadata": {},
     "source": [
      "####More recursion practice\n",
      "\n",
      "Write a recursive implementation of the map function."
     ]
    },
    {
     "cell_type": "code",
     "collapsed": false,
     "input": [
      "def recursive_map(fn, thelist, acc=[]):\n",
      "    if not thelist:\n",
      "        return acc\n",
      "    else:\n",
      "        return recursive_map(fn, thelist[1:], acc + [fn(thelist[0])])"
     ],
     "language": "python",
     "metadata": {},
     "outputs": [],
     "prompt_number": 31
    },
    {
     "cell_type": "code",
     "collapsed": false,
     "input": [
      "recursive_map(lambda x: x + 1, [4,3,4,5])"
     ],
     "language": "python",
     "metadata": {},
     "outputs": [
      {
       "metadata": {},
       "output_type": "pyout",
       "prompt_number": 32,
       "text": [
        "[5, 4, 5, 6]"
       ]
      }
     ],
     "prompt_number": 32
    },
    {
     "cell_type": "markdown",
     "metadata": {},
     "source": [
      "Write a recursive implementation of the filter function."
     ]
    },
    {
     "cell_type": "code",
     "collapsed": false,
     "input": [
      "def recursive_filter(fn, thelist, acc=[]):\n",
      "    if not thelist:\n",
      "        return acc\n",
      "    else:\n",
      "        return recursive_filter(fn, thelist[1:], acc + ([thelist[0]] if fn(thelist[0]) else []))"
     ],
     "language": "python",
     "metadata": {},
     "outputs": [],
     "prompt_number": 37
    },
    {
     "cell_type": "code",
     "collapsed": false,
     "input": [
      "recursive_filter(lambda x: x==4, [3,4,5,6,6,5,4])"
     ],
     "language": "python",
     "metadata": {},
     "outputs": [
      {
       "metadata": {},
       "output_type": "pyout",
       "prompt_number": 38,
       "text": [
        "[4, 4]"
       ]
      }
     ],
     "prompt_number": 38
    },
    {
     "cell_type": "markdown",
     "metadata": {},
     "source": [
      "Write a recursive function that inserts an element in the right place into a linked list. The function should return a new linked list rather than mutate the original list."
     ]
    },
    {
     "cell_type": "code",
     "collapsed": false,
     "input": [
      "###Unfinished\n",
      "\n",
      "\n",
      "g = [('a', 1), ('b', 3), ('d', -1), ('c', 2)]\n",
      "\n",
      "def recursive_insert_linked_list(insert_item, insert_index, current_item, counter=0, acc=[], linked_list=g):\n",
      "    # list_init is a tuple of (item, next item location)\n",
      "    # for exercise purposes, linked list is an entire object within a python list, like 'g' above\n",
      "    \n",
      "    if insert_index == counter:\n",
      "        \n",
      "    "
     ],
     "language": "python",
     "metadata": {},
     "outputs": []
    }
   ],
   "metadata": {}
  }
 ]
}